{
 "cells": [
  {
   "cell_type": "markdown",
   "id": "35cb97f0-e95c-4427-9648-367cb3f9c5a1",
   "metadata": {},
   "source": [
    "# Configurações Iniciais"
   ]
  },
  {
   "cell_type": "markdown",
   "id": "65126e69-b513-4aa6-9f20-e56cb9f05465",
   "metadata": {},
   "source": [
    "## Importações das bibliotecas"
   ]
  },
  {
   "cell_type": "code",
   "execution_count": 2,
   "id": "e6656e0a-14a3-4c14-8dd6-1d21597fc815",
   "metadata": {},
   "outputs": [],
   "source": [
    "import pandas as pd\n",
    "import seaborn as sns\n",
    "import pingouin as pg\n",
    "import matplotlib.pyplot as plt"
   ]
  },
  {
   "cell_type": "markdown",
   "id": "8e808d0b-942f-41b1-ab56-611e68953e6a",
   "metadata": {},
   "source": [
    "## Base de dados do Kaggle"
   ]
  },
  {
   "cell_type": "code",
   "execution_count": 33,
   "id": "9c9c5b7d-b497-4fba-ab41-72924c3521bb",
   "metadata": {},
   "outputs": [
    {
     "data": {
      "text/html": [
       "<div>\n",
       "<style scoped>\n",
       "    .dataframe tbody tr th:only-of-type {\n",
       "        vertical-align: middle;\n",
       "    }\n",
       "\n",
       "    .dataframe tbody tr th {\n",
       "        vertical-align: top;\n",
       "    }\n",
       "\n",
       "    .dataframe thead th {\n",
       "        text-align: right;\n",
       "    }\n",
       "</style>\n",
       "<table border=\"1\" class=\"dataframe\">\n",
       "  <thead>\n",
       "    <tr style=\"text-align: right;\">\n",
       "      <th></th>\n",
       "      <th>Temperature</th>\n",
       "      <th>Vibration</th>\n",
       "      <th>Power_Usage</th>\n",
       "      <th>Humidity</th>\n",
       "      <th>Machine_Type</th>\n",
       "      <th>Failure_Risk</th>\n",
       "    </tr>\n",
       "  </thead>\n",
       "  <tbody>\n",
       "    <tr>\n",
       "      <th>0</th>\n",
       "      <td>74.967142</td>\n",
       "      <td>56.996777</td>\n",
       "      <td>8.649643</td>\n",
       "      <td>20.460962</td>\n",
       "      <td>Mill</td>\n",
       "      <td>1</td>\n",
       "    </tr>\n",
       "    <tr>\n",
       "      <th>1</th>\n",
       "      <td>68.617357</td>\n",
       "      <td>54.623168</td>\n",
       "      <td>9.710963</td>\n",
       "      <td>25.698075</td>\n",
       "      <td>Lathe</td>\n",
       "      <td>0</td>\n",
       "    </tr>\n",
       "    <tr>\n",
       "      <th>2</th>\n",
       "      <td>76.476885</td>\n",
       "      <td>50.298152</td>\n",
       "      <td>8.415160</td>\n",
       "      <td>27.931972</td>\n",
       "      <td>Drill</td>\n",
       "      <td>1</td>\n",
       "    </tr>\n",
       "    <tr>\n",
       "      <th>3</th>\n",
       "      <td>85.230299</td>\n",
       "      <td>46.765316</td>\n",
       "      <td>9.384077</td>\n",
       "      <td>39.438438</td>\n",
       "      <td>Lathe</td>\n",
       "      <td>1</td>\n",
       "    </tr>\n",
       "    <tr>\n",
       "      <th>4</th>\n",
       "      <td>67.658466</td>\n",
       "      <td>53.491117</td>\n",
       "      <td>6.212771</td>\n",
       "      <td>32.782766</td>\n",
       "      <td>Drill</td>\n",
       "      <td>1</td>\n",
       "    </tr>\n",
       "  </tbody>\n",
       "</table>\n",
       "</div>"
      ],
      "text/plain": [
       "   Temperature  Vibration  Power_Usage   Humidity Machine_Type  Failure_Risk\n",
       "0    74.967142  56.996777     8.649643  20.460962         Mill             1\n",
       "1    68.617357  54.623168     9.710963  25.698075        Lathe             0\n",
       "2    76.476885  50.298152     8.415160  27.931972        Drill             1\n",
       "3    85.230299  46.765316     9.384077  39.438438        Lathe             1\n",
       "4    67.658466  53.491117     6.212771  32.782766        Drill             1"
      ]
     },
     "execution_count": 33,
     "metadata": {},
     "output_type": "execute_result"
    }
   ],
   "source": [
    "dataset = pd.read_csv(\"datasets/machine_failure_dataset.csv\") # Criando um dataframe com os dados\n",
    "dataset.head() #Exibindo as 5 primeiras linhas do dataset"
   ]
  },
  {
   "cell_type": "code",
   "execution_count": 34,
   "id": "4c11244a-f7eb-4bd5-ad3c-ffd1fd1a69bb",
   "metadata": {},
   "outputs": [
    {
     "name": "stdout",
     "output_type": "stream",
     "text": [
      "<class 'pandas.core.frame.DataFrame'>\n",
      "RangeIndex: 1000 entries, 0 to 999\n",
      "Data columns (total 6 columns):\n",
      " #   Column        Non-Null Count  Dtype  \n",
      "---  ------        --------------  -----  \n",
      " 0   Temperature   1000 non-null   float64\n",
      " 1   Vibration     1000 non-null   float64\n",
      " 2   Power_Usage   1000 non-null   float64\n",
      " 3   Humidity      1000 non-null   float64\n",
      " 4   Machine_Type  1000 non-null   object \n",
      " 5   Failure_Risk  1000 non-null   int64  \n",
      "dtypes: float64(4), int64(1), object(1)\n",
      "memory usage: 47.0+ KB\n"
     ]
    }
   ],
   "source": [
    "dataset.info() # Informações sobre o banco de dados, como número de linhas e colunas, quantidade de elementos nulos e tipo de variável"
   ]
  },
  {
   "cell_type": "code",
   "execution_count": 35,
   "id": "3767f303-49a8-4136-a75d-1a6e08e2b300",
   "metadata": {},
   "outputs": [
    {
     "data": {
      "text/plain": [
       "False    1000\n",
       "Name: count, dtype: int64"
      ]
     },
     "execution_count": 35,
     "metadata": {},
     "output_type": "execute_result"
    }
   ],
   "source": [
    "dataset.duplicated().value_counts() # Verificando a presença de linhas duplicadas"
   ]
  },
  {
   "cell_type": "code",
   "execution_count": 36,
   "id": "4b44116d-8913-40f8-9e3a-0ffc1e39b449",
   "metadata": {},
   "outputs": [
    {
     "data": {
      "text/plain": [
       "count     1000\n",
       "unique       2\n",
       "top        Não\n",
       "freq       700\n",
       "Name: Failure_Risk, dtype: object"
      ]
     },
     "execution_count": 36,
     "metadata": {},
     "output_type": "execute_result"
    }
   ],
   "source": [
    "dataset['Failure_Risk'] = dataset['Failure_Risk'].map(lambda x: 'Sim' if x == 1 else 'Não') # Decodificando a variável de classificação de risco"
   ]
  },
  {
   "cell_type": "code",
   "execution_count": 38,
   "id": "7eda57bc-71ef-429a-8d6c-61bb416977bf",
   "metadata": {},
   "outputs": [
    {
     "data": {
      "text/plain": [
       "Failure_Risk\n",
       "Não    700\n",
       "Sim    300\n",
       "Name: count, dtype: int64"
      ]
     },
     "execution_count": 38,
     "metadata": {},
     "output_type": "execute_result"
    }
   ],
   "source": [
    "dataset['Failure_Risk'].value_counts() # Observando as alterações feitas na coluna 'Failure_Risk' através da contagem de seus valores"
   ]
  },
  {
   "cell_type": "markdown",
   "id": "3232bcab-0edb-4689-b378-cf2f601fd584",
   "metadata": {},
   "source": [
    "# Análise dos Atributos"
   ]
  },
  {
   "cell_type": "markdown",
   "id": "a9bd8659-afd8-4d70-a743-292fac17c9b5",
   "metadata": {},
   "source": [
    "Os dados analisados são provenientes de uma amostra de dados coletados de sensores de máquinas em um ambiente de fabricação industrial associados ou não a um risco de falha. Os atributos desse dataset são:\n",
    "- Temperature: Indica a temperatura em graus Celsius de operação da máquina. (Atributo preditivo quantitativo contínuo)\n",
    "- Vibration: Indica a frequência de vibração da máquina em Hz. (Atributo preditivo quantitativo contínuo)\n",
    "- Power_Usage: Indica o consumo de energia em kW. (Atributo preditivo quantitativo contínuo)\n",
    "- Humidity: Indica a umidade do ambiente em percentual. (Atributo preditivo quantitativo contínuo)\n",
    "- Machine_Type: Categoriza a máquina em 'Mill', 'Lathe' e 'Drill'. (Atributo preditivo qualitativo nominal)\n",
    "- Failure_Risk: Classificação binário do risco de falha, sendo 0 para ausência de risco e 1 para presença. (Atributo alvo qualitativo nominal)"
   ]
  },
  {
   "cell_type": "code",
   "execution_count": 22,
   "id": "f6e8a949-d8f9-4e31-b030-afe2f8820519",
   "metadata": {},
   "outputs": [
    {
     "data": {
      "text/plain": [
       "Temperature     1000\n",
       "Vibration       1000\n",
       "Power_Usage     1000\n",
       "Humidity        1000\n",
       "Machine_Type       3\n",
       "Failure_Risk       2\n",
       "dtype: int64"
      ]
     },
     "execution_count": 22,
     "metadata": {},
     "output_type": "execute_result"
    }
   ],
   "source": [
    "dataset.nunique() # Quantidade de elementos únicos em cada coluna"
   ]
  },
  {
   "cell_type": "markdown",
   "id": "33d8fee9-fa92-4066-92b2-474caf98e0f5",
   "metadata": {},
   "source": [
    "A partir dessa primeira análise do dataset é possível observar que os dados coletados pelos sensores fornecem informações sobre o estado de operação de uma amostra composta por 3 tipos de máquinas que possuem uma classificação de risco binária, com 0 para ausência de risco e 1 para um risco potencial."
   ]
  },
  {
   "cell_type": "markdown",
   "id": "1a3b49cf-4d43-4bb7-abe2-eecf8b647258",
   "metadata": {},
   "source": [
    "# Análise Descritiva"
   ]
  },
  {
   "cell_type": "code",
   "execution_count": 39,
   "id": "a70e55ea-2887-43ec-9d10-cbebf90f6778",
   "metadata": {},
   "outputs": [],
   "source": [
    "# Separação das colunas por tipo para facilitar a análise estatística\n",
    "quantitativos = ['Temperature', 'Vibration', 'Power_Usage', 'Humidity'] # Array contendo os nomes das colunas dos atributos quantitativos\n",
    "qualitativos = ['Machine_Type', 'Failure_Risk'] # Array contendo os nomes das colunas dos atributos qualitativos"
   ]
  },
  {
   "cell_type": "markdown",
   "id": "1dabb84f-2735-4fd3-a25c-bd76f5a7272b",
   "metadata": {},
   "source": [
    "## Medidas de posição"
   ]
  },
  {
   "cell_type": "markdown",
   "id": "d1adbe21-1844-42e8-ba4b-6226b605cd77",
   "metadata": {},
   "source": [
    "- **Média:**"
   ]
  },
  {
   "cell_type": "code",
   "execution_count": 40,
   "id": "21ebce11-951b-441a-a3ff-1145e05ed6bd",
   "metadata": {},
   "outputs": [
    {
     "data": {
      "text/plain": [
       "Temperature    70.193321\n",
       "Vibration      50.354181\n",
       "Power_Usage    10.011668\n",
       "Humidity       29.906404\n",
       "dtype: float64"
      ]
     },
     "execution_count": 40,
     "metadata": {},
     "output_type": "execute_result"
    }
   ],
   "source": [
    "dataset[quantitativos].mean() # Cálculo das médias dos atributos quantitativos"
   ]
  },
  {
   "cell_type": "markdown",
   "id": "c2c4c6a3-63b4-4c2d-a58b-de77f2e8c23c",
   "metadata": {},
   "source": [
    "- **Moda:**"
   ]
  },
  {
   "cell_type": "code",
   "execution_count": 43,
   "id": "0e690123-1757-49a3-abb8-ee44e3e93fee",
   "metadata": {},
   "outputs": [
    {
     "data": {
      "text/plain": [
       "Temperature    37.587327\n",
       "Vibration      35.298057\n",
       "Power_Usage     3.960976\n",
       "Humidity       15.352757\n",
       "Name: 0, dtype: float64"
      ]
     },
     "execution_count": 43,
     "metadata": {},
     "output_type": "execute_result"
    }
   ],
   "source": [
    "dataset[quantitativos].mode().iloc[0] # Cálculo da moda dos atributos quantitativos"
   ]
  },
  {
   "cell_type": "markdown",
   "id": "fd56391c-e6f5-47a6-b72c-2ed443146af2",
   "metadata": {},
   "source": [
    "- **Mediana:**"
   ]
  },
  {
   "cell_type": "code",
   "execution_count": 44,
   "id": "eb69fbb2-1694-42b3-8d37-224b8ca34bc7",
   "metadata": {},
   "outputs": [
    {
     "data": {
      "text/plain": [
       "Temperature    70.253006\n",
       "Vibration      50.315386\n",
       "Power_Usage     9.999498\n",
       "Humidity       30.000923\n",
       "dtype: float64"
      ]
     },
     "execution_count": 44,
     "metadata": {},
     "output_type": "execute_result"
    }
   ],
   "source": [
    "dataset[quantitativos].median() # Cálculo das medianas dos atributos quantitativos"
   ]
  },
  {
   "cell_type": "markdown",
   "id": "20d62c81-64a8-4a82-9ef5-2b106877791b",
   "metadata": {},
   "source": [
    "- **Quartis:**"
   ]
  },
  {
   "cell_type": "code",
   "execution_count": 50,
   "id": "224ec69e-0fc8-4191-a2e4-37b39e837d58",
   "metadata": {
    "scrolled": true
   },
   "outputs": [
    {
     "data": {
      "text/html": [
       "<div>\n",
       "<style scoped>\n",
       "    .dataframe tbody tr th:only-of-type {\n",
       "        vertical-align: middle;\n",
       "    }\n",
       "\n",
       "    .dataframe tbody tr th {\n",
       "        vertical-align: top;\n",
       "    }\n",
       "\n",
       "    .dataframe thead th {\n",
       "        text-align: right;\n",
       "    }\n",
       "</style>\n",
       "<table border=\"1\" class=\"dataframe\">\n",
       "  <thead>\n",
       "    <tr style=\"text-align: right;\">\n",
       "      <th></th>\n",
       "      <th>Temperature</th>\n",
       "      <th>Vibration</th>\n",
       "      <th>Power_Usage</th>\n",
       "      <th>Humidity</th>\n",
       "    </tr>\n",
       "  </thead>\n",
       "  <tbody>\n",
       "    <tr>\n",
       "      <th>0.25</th>\n",
       "      <td>63.524097</td>\n",
       "      <td>46.968792</td>\n",
       "      <td>8.704001</td>\n",
       "      <td>26.312898</td>\n",
       "    </tr>\n",
       "    <tr>\n",
       "      <th>0.50</th>\n",
       "      <td>70.253006</td>\n",
       "      <td>50.315386</td>\n",
       "      <td>9.999498</td>\n",
       "      <td>30.000923</td>\n",
       "    </tr>\n",
       "    <tr>\n",
       "      <th>0.75</th>\n",
       "      <td>76.479439</td>\n",
       "      <td>53.644411</td>\n",
       "      <td>11.321831</td>\n",
       "      <td>33.334727</td>\n",
       "    </tr>\n",
       "  </tbody>\n",
       "</table>\n",
       "</div>"
      ],
      "text/plain": [
       "      Temperature  Vibration  Power_Usage   Humidity\n",
       "0.25    63.524097  46.968792     8.704001  26.312898\n",
       "0.50    70.253006  50.315386     9.999498  30.000923\n",
       "0.75    76.479439  53.644411    11.321831  33.334727"
      ]
     },
     "execution_count": 50,
     "metadata": {},
     "output_type": "execute_result"
    }
   ],
   "source": [
    "dataset[quantitativos].quantile([0.25, 0.5, 0.75]) # Obtenção dos quartis Q1, Q2 e Q3 para os atributos quantitativos"
   ]
  },
  {
   "cell_type": "markdown",
   "id": "aad5b360-fc0a-49c0-b04c-461a2fe329cb",
   "metadata": {},
   "source": [
    "## Medidas de Dispersão"
   ]
  },
  {
   "cell_type": "markdown",
   "id": "d0b84c86-c16f-461a-ae0f-a1318ca39e75",
   "metadata": {},
   "source": [
    "- **Amplitude Total:**"
   ]
  },
  {
   "cell_type": "code",
   "execution_count": 51,
   "id": "c34be20f-7f19-43fe-8156-db7b0b626086",
   "metadata": {},
   "outputs": [
    {
     "data": {
      "text/plain": [
       "Temperature    70.939988\n",
       "Vibration      30.667481\n",
       "Power_Usage    13.891500\n",
       "Humidity       30.862708\n",
       "dtype: float64"
      ]
     },
     "execution_count": 51,
     "metadata": {},
     "output_type": "execute_result"
    }
   ],
   "source": [
    "(dataset[quantitativos].max()-dataset[quantitativos].min()) # Cálculo da amplitude total dos atributos quantitativos (valor máximo - valor mínimo)"
   ]
  },
  {
   "cell_type": "markdown",
   "id": "f136c962-250f-4421-87f0-b4b40f58ec96",
   "metadata": {},
   "source": [
    "- **Desvio Padrão:**"
   ]
  },
  {
   "cell_type": "code",
   "execution_count": 45,
   "id": "557428e3-935f-4396-bd2f-b96169d121ea",
   "metadata": {},
   "outputs": [
    {
     "data": {
      "text/plain": [
       "Temperature    9.792159\n",
       "Vibration      4.987272\n",
       "Power_Usage    1.966909\n",
       "Humidity       5.135663\n",
       "dtype: float64"
      ]
     },
     "execution_count": 45,
     "metadata": {},
     "output_type": "execute_result"
    }
   ],
   "source": [
    "dataset[quantitativos].std() # Obtenção do desvio padrão dos atributos quantitativos da amostra"
   ]
  },
  {
   "cell_type": "markdown",
   "id": "bcc77c8d-209b-47d8-88c4-fff199c4ba63",
   "metadata": {},
   "source": [
    "- **Variância:**"
   ]
  },
  {
   "cell_type": "code",
   "execution_count": 46,
   "id": "723a36ba-bcf6-417d-99b8-35b6a83c217f",
   "metadata": {},
   "outputs": [
    {
     "data": {
      "text/plain": [
       "Temperature    95.886385\n",
       "Vibration      24.872881\n",
       "Power_Usage     3.868729\n",
       "Humidity       26.375031\n",
       "dtype: float64"
      ]
     },
     "execution_count": 46,
     "metadata": {},
     "output_type": "execute_result"
    }
   ],
   "source": [
    "dataset[quantitativos].var() # Obtenção da variância dos atributos quantitativos da amostra"
   ]
  },
  {
   "cell_type": "markdown",
   "id": "74be71b6-bc8c-4098-9d21-a429fb19acf6",
   "metadata": {},
   "source": [
    "- **Coeficiente de Variação:**"
   ]
  },
  {
   "cell_type": "code",
   "execution_count": 47,
   "id": "6b728541-0b74-473a-9fb1-4441347a328f",
   "metadata": {},
   "outputs": [
    {
     "data": {
      "text/plain": [
       "Temperature    13.950272\n",
       "Vibration       9.904385\n",
       "Power_Usage    19.646162\n",
       "Humidity       17.172451\n",
       "dtype: float64"
      ]
     },
     "execution_count": 47,
     "metadata": {},
     "output_type": "execute_result"
    }
   ],
   "source": [
    "(dataset[quantitativos].std()/dataset[quantitativos].mean())*100 # Cálculo do coeficiente de variação (desvio/média) em percentual"
   ]
  },
  {
   "cell_type": "markdown",
   "id": "f93e9ffb-45cf-4ffb-91bc-4d677f2fbf6f",
   "metadata": {},
   "source": [
    "## Medidas de Assimetria"
   ]
  },
  {
   "cell_type": "markdown",
   "id": "33dcfe6f-83c5-4760-960f-fd52d0a72d0a",
   "metadata": {},
   "source": [
    "- **Coeficiente de assimetria:**"
   ]
  },
  {
   "cell_type": "code",
   "execution_count": 55,
   "id": "9288072b-0972-4b4f-9062-0cd0e5062814",
   "metadata": {},
   "outputs": [
    {
     "data": {
      "text/plain": [
       "Temperature    0.116976\n",
       "Vibration     -0.049396\n",
       "Power_Usage    0.061247\n",
       "Humidity      -0.002121\n",
       "dtype: float64"
      ]
     },
     "execution_count": 55,
     "metadata": {},
     "output_type": "execute_result"
    }
   ],
   "source": [
    "dataset[quantitativos].skew() # Cálculo do coeficiente de assimetria dos atributos quantitativos"
   ]
  },
  {
   "cell_type": "markdown",
   "id": "f7893311-7053-4ff6-b990-3fe977ee7c04",
   "metadata": {},
   "source": [
    "## Distribuição de frequências"
   ]
  },
  {
   "cell_type": "markdown",
   "id": "51c792cf-8864-4b8b-8281-bb97e2cdb77a",
   "metadata": {},
   "source": [
    "- **Frequência da coluna 'Machine_Type':**"
   ]
  },
  {
   "cell_type": "code",
   "execution_count": 57,
   "id": "2b1423ad-e2b1-4b03-aa01-c8135e6a5995",
   "metadata": {},
   "outputs": [
    {
     "data": {
      "text/html": [
       "<div>\n",
       "<style scoped>\n",
       "    .dataframe tbody tr th:only-of-type {\n",
       "        vertical-align: middle;\n",
       "    }\n",
       "\n",
       "    .dataframe tbody tr th {\n",
       "        vertical-align: top;\n",
       "    }\n",
       "\n",
       "    .dataframe thead th {\n",
       "        text-align: right;\n",
       "    }\n",
       "</style>\n",
       "<table border=\"1\" class=\"dataframe\">\n",
       "  <thead>\n",
       "    <tr style=\"text-align: right;\">\n",
       "      <th></th>\n",
       "      <th>Frequência</th>\n",
       "      <th>Percentual</th>\n",
       "    </tr>\n",
       "    <tr>\n",
       "      <th>Machine_Type</th>\n",
       "      <th></th>\n",
       "      <th></th>\n",
       "    </tr>\n",
       "  </thead>\n",
       "  <tbody>\n",
       "    <tr>\n",
       "      <th>Lathe</th>\n",
       "      <td>338</td>\n",
       "      <td>33.80%</td>\n",
       "    </tr>\n",
       "    <tr>\n",
       "      <th>Drill</th>\n",
       "      <td>334</td>\n",
       "      <td>33.40%</td>\n",
       "    </tr>\n",
       "    <tr>\n",
       "      <th>Mill</th>\n",
       "      <td>328</td>\n",
       "      <td>32.80%</td>\n",
       "    </tr>\n",
       "  </tbody>\n",
       "</table>\n",
       "</div>"
      ],
      "text/plain": [
       "              Frequência Percentual\n",
       "Machine_Type                       \n",
       "Lathe                338     33.80%\n",
       "Drill                334     33.40%\n",
       "Mill                 328     32.80%"
      ]
     },
     "execution_count": 57,
     "metadata": {},
     "output_type": "execute_result"
    }
   ],
   "source": [
    "type_freq = dataset['Machine_Type'].value_counts() # Obtenção da frequencia simples absoluta da coluna Machine_Type\n",
    "type_perc = dataset['Machine_Type'].value_counts(normalize=True)*100 # Obtenção da frequência simples relativa da coluna Machine_Type\n",
    "tb_type = pd.DataFrame({'Frequência': type_freq,\n",
    "                        'Percentual': type_perc.map('{:.2f}%'.format)})\n",
    "tb_type"
   ]
  },
  {
   "cell_type": "markdown",
   "id": "6a72ec7d-c561-4965-a4c5-c2d7059db6ea",
   "metadata": {},
   "source": [
    "- **Frequência da coluna 'Failure_Risk':**"
   ]
  },
  {
   "cell_type": "code",
   "execution_count": 59,
   "id": "c5c00b67-a2fb-4e7f-a5d5-847675c45aa1",
   "metadata": {},
   "outputs": [
    {
     "data": {
      "text/html": [
       "<div>\n",
       "<style scoped>\n",
       "    .dataframe tbody tr th:only-of-type {\n",
       "        vertical-align: middle;\n",
       "    }\n",
       "\n",
       "    .dataframe tbody tr th {\n",
       "        vertical-align: top;\n",
       "    }\n",
       "\n",
       "    .dataframe thead th {\n",
       "        text-align: right;\n",
       "    }\n",
       "</style>\n",
       "<table border=\"1\" class=\"dataframe\">\n",
       "  <thead>\n",
       "    <tr style=\"text-align: right;\">\n",
       "      <th></th>\n",
       "      <th>Frequência</th>\n",
       "      <th>Percentual</th>\n",
       "    </tr>\n",
       "    <tr>\n",
       "      <th>Failure_Risk</th>\n",
       "      <th></th>\n",
       "      <th></th>\n",
       "    </tr>\n",
       "  </thead>\n",
       "  <tbody>\n",
       "    <tr>\n",
       "      <th>Não</th>\n",
       "      <td>700</td>\n",
       "      <td>70.00%</td>\n",
       "    </tr>\n",
       "    <tr>\n",
       "      <th>Sim</th>\n",
       "      <td>300</td>\n",
       "      <td>30.00%</td>\n",
       "    </tr>\n",
       "  </tbody>\n",
       "</table>\n",
       "</div>"
      ],
      "text/plain": [
       "              Frequência Percentual\n",
       "Failure_Risk                       \n",
       "Não                  700     70.00%\n",
       "Sim                  300     30.00%"
      ]
     },
     "execution_count": 59,
     "metadata": {},
     "output_type": "execute_result"
    }
   ],
   "source": [
    "risk_freq = dataset['Failure_Risk'].value_counts() # Obtenção da frequência simples absoluta da coluna Failure_Risk\n",
    "risk_perc = dataset['Failure_Risk'].value_counts(normalize=True)*100 # Obtenção da frequência simples relativa da coluna Failure_Risk\n",
    "tb_risk = pd.DataFrame({'Frequência': risk_freq,\n",
    "                        'Percentual': risk_perc.map('{:.2f}%'.format)})\n",
    "tb_risk"
   ]
  },
  {
   "cell_type": "markdown",
   "id": "74e40751-9845-476e-8383-bdf5d5b9075f",
   "metadata": {},
   "source": [
    "# Análise Gráfica"
   ]
  },
  {
   "cell_type": "markdown",
   "id": "fd3e80cf-7237-4ceb-9307-b71d540d3c3a",
   "metadata": {},
   "source": [
    "## Variáveis Quantitativas:"
   ]
  },
  {
   "cell_type": "markdown",
   "id": "aa087655-d241-406c-9ab0-da0b75512625",
   "metadata": {},
   "source": [
    "- **Histogramas**"
   ]
  },
  {
   "cell_type": "code",
   "execution_count": 129,
   "id": "c8a33007-2e8c-4d19-8c6b-e823cdcaca40",
   "metadata": {},
   "outputs": [
    {
     "name": "stderr",
     "output_type": "stream",
     "text": [
      "C:\\Users\\carol\\anaconda3\\Lib\\site-packages\\seaborn\\_oldcore.py:1119: FutureWarning: use_inf_as_na option is deprecated and will be removed in a future version. Convert inf values to NaN before operating instead.\n",
      "  with pd.option_context('mode.use_inf_as_na', True):\n"
     ]
    },
    {
     "data": {
      "image/png": "[encoded data removed]",
      "text/plain": [
       "<Figure size 600x400 with 1 Axes>"
      ]
     },
     "metadata": {},
     "output_type": "display_data"
    }
   ],
   "source": [
    "plt.figure(figsize=[6,4])\n",
    "# Criando um gráfico para visualização da densidade da coluna 'Temperature'\n",
    "plt.hist(data = dataset, x = 'Temperature', color='red', histtype='bar', rwidth=2, edgecolor='red', density=True, alpha=.4)\n",
    "plt.title(\"Densidade de 'Temperature'\")\n",
    "sns.kdeplot(dataset['Temperature'], color='black')\n",
    "#plt.savefig('Densidade de Temperature.png') # Comando para salvar a imagem\n",
    "plt.show()"
   ]
  },
  {
   "cell_type": "code",
   "execution_count": 132,
   "id": "8db29691-b369-4776-b5c0-6f8da64dfa34",
   "metadata": {},
   "outputs": [
    {
     "name": "stderr",
     "output_type": "stream",
     "text": [
      "C:\\Users\\carol\\anaconda3\\Lib\\site-packages\\seaborn\\_oldcore.py:1119: FutureWarning: use_inf_as_na option is deprecated and will be removed in a future version. Convert inf values to NaN before operating instead.\n",
      "  with pd.option_context('mode.use_inf_as_na', True):\n"
     ]
    },
    {
     "data": {
      "image/png": "[encoded data removed]",
      "text/plain": [
       "<Figure size 600x400 with 1 Axes>"
      ]
     },
     "metadata": {},
     "output_type": "display_data"
    }
   ],
   "source": [
    "plt.figure(figsize=[6,4])\n",
    "# Criando um gráfico para visualização da densidade do atributo 'Vibration'\n",
    "plt.hist(data = dataset, x = 'Vibration', color='red', histtype='bar', rwidth=2, edgecolor='red', density=True, alpha=.4)\n",
    "plt.title(\"Densidade de 'Vibration'\")\n",
    "sns.kdeplot(dataset['Vibration'], color='black')\n",
    "#plt.savefig('Densidade de Vibration.png') # Comando para salvar a imagem\n",
    "plt.show()"
   ]
  },
  {
   "cell_type": "code",
   "execution_count": 133,
   "id": "90f9dbc0-44f4-4039-90f2-9ed5f8504f98",
   "metadata": {},
   "outputs": [
    {
     "name": "stderr",
     "output_type": "stream",
     "text": [
      "C:\\Users\\carol\\anaconda3\\Lib\\site-packages\\seaborn\\_oldcore.py:1119: FutureWarning: use_inf_as_na option is deprecated and will be removed in a future version. Convert inf values to NaN before operating instead.\n",
      "  with pd.option_context('mode.use_inf_as_na', True):\n"
     ]
    },
    {
     "data": {
      "image/png": "[encoded data removed]",
      "text/plain": [
       "<Figure size 600x400 with 1 Axes>"
      ]
     },
     "metadata": {},
     "output_type": "display_data"
    }
   ],
   "source": [
    "plt.figure(figsize=[6,4])\n",
    "# Criando um gráfico para visualização da densidade da coluna 'Power_Usage'\n",
    "plt.hist(data = dataset, x = 'Power_Usage', color='red', histtype='bar', rwidth=2, edgecolor='red', density=True, alpha=.4)\n",
    "plt.title(\"Densidade de 'Power_Usage'\")\n",
    "sns.kdeplot(dataset['Power_Usage'], color='black')\n",
    "#plt.savefig('Densidade de Power_Usage.png') # Comando para salvar a imagem\n",
    "plt.show()"
   ]
  },
  {
   "cell_type": "code",
   "execution_count": 134,
   "id": "c4f45b9f-830e-4a4a-b4bd-e03466bd6308",
   "metadata": {},
   "outputs": [
    {
     "name": "stderr",
     "output_type": "stream",
     "text": [
      "C:\\Users\\carol\\anaconda3\\Lib\\site-packages\\seaborn\\_oldcore.py:1119: FutureWarning: use_inf_as_na option is deprecated and will be removed in a future version. Convert inf values to NaN before operating instead.\n",
      "  with pd.option_context('mode.use_inf_as_na', True):\n"
     ]
    },
    {
     "data": {
      "image/png": "[encoded data removed]",
      "text/plain": [
       "<Figure size 600x400 with 1 Axes>"
      ]
     },
     "metadata": {},
     "output_type": "display_data"
    }
   ],
   "source": [
    "plt.figure(figsize=[6,4])\n",
    "# Criando um gráfico para visualização da densidade da coluna 'Humidity'\n",
    "plt.hist(data = dataset, x = 'Humidity', color='red', histtype='bar', rwidth=2, edgecolor='red', density=True, alpha=.4)\n",
    "plt.title(\"Densidade de 'Humidity'\")\n",
    "sns.kdeplot(dataset['Humidity'], color='black')\n",
    "#plt.savefig('Densidade de Humidity.png') # Comando para salvar a imagem\n",
    "plt.show()"
   ]
  },
  {
   "cell_type": "markdown",
   "id": "fb63ecb5-97ae-49fb-ac73-19bbc81be73a",
   "metadata": {},
   "source": [
    "- **Boxplots**"
   ]
  },
  {
   "cell_type": "code",
   "execution_count": 165,
   "id": "c3c5514d-629d-4d59-9049-404bba2bdbd6",
   "metadata": {},
   "outputs": [
    {
     "data": {
      "image/png": "[encoded data removed]",
      "text/plain": [
       "<Figure size 900x700 with 1 Axes>"
      ]
     },
     "metadata": {},
     "output_type": "display_data"
    }
   ],
   "source": [
    "# Plotando boxplots para analisar a distribuição dos quartis de cada atributo quantitativo\n",
    "plt.figure(figsize=[9,7])\n",
    "sns.boxplot(dataset[quantitativos])\n",
    "#plt.savefig('Boxplot.png') # Comando para salvar a imagem\n",
    "plt.show()"
   ]
  },
  {
   "cell_type": "markdown",
   "id": "ef3ce1e1-80ed-4b2b-921a-371078532c08",
   "metadata": {},
   "source": [
    "## Variáveis Qualitativas"
   ]
  },
  {
   "cell_type": "markdown",
   "id": "3f9650f7-5d25-41ef-a465-3530811cd264",
   "metadata": {},
   "source": [
    "- **Gráfico de setores**"
   ]
  },
  {
   "cell_type": "code",
   "execution_count": 136,
   "id": "4ad52a3a-24fb-4d04-8eea-da71e9a95973",
   "metadata": {},
   "outputs": [
    {
     "data": {
      "image/png": "[encoded data removed]",
      "text/plain": [
       "<Figure size 1300x500 with 1 Axes>"
      ]
     },
     "metadata": {},
     "output_type": "display_data"
    }
   ],
   "source": [
    "# Plotando um gráfico de setores para mostrar a distribuição das categorias de tipo de máquina\n",
    "plt.figure(figsize = [13,5])\n",
    "plt.pie(dataset['Machine_Type'].value_counts(), colors=[('red', 0.3), ('red', 0.5), ('red', 0.7)], autopct='%1.1f%%', labels= dataset['Machine_Type'].value_counts().index)\n",
    "plt.title(\"Distribuição do tipo de máquina\")\n",
    "#plt.savefig('Distribuição Machine_Type.png') # Comando para salvar a imagem\n",
    "plt.show()"
   ]
  },
  {
   "cell_type": "markdown",
   "id": "6071e461-12b1-4dd1-ab5e-67084cbbf8c4",
   "metadata": {},
   "source": [
    "# Análise Bivariada"
   ]
  },
  {
   "cell_type": "markdown",
   "id": "baf434ad-4268-479d-99e7-420825e88a73",
   "metadata": {},
   "source": [
    "## Análise dos dados relacionados a ausência de risco de falha da máquina"
   ]
  },
  {
   "cell_type": "code",
   "execution_count": 139,
   "id": "369ae140-a555-4774-95b5-6cce65b7e94d",
   "metadata": {},
   "outputs": [
    {
     "data": {
      "text/html": [
       "<div>\n",
       "<style scoped>\n",
       "    .dataframe tbody tr th:only-of-type {\n",
       "        vertical-align: middle;\n",
       "    }\n",
       "\n",
       "    .dataframe tbody tr th {\n",
       "        vertical-align: top;\n",
       "    }\n",
       "\n",
       "    .dataframe thead th {\n",
       "        text-align: right;\n",
       "    }\n",
       "</style>\n",
       "<table border=\"1\" class=\"dataframe\">\n",
       "  <thead>\n",
       "    <tr style=\"text-align: right;\">\n",
       "      <th></th>\n",
       "      <th>Temperature</th>\n",
       "      <th>Vibration</th>\n",
       "      <th>Power_Usage</th>\n",
       "      <th>Humidity</th>\n",
       "    </tr>\n",
       "  </thead>\n",
       "  <tbody>\n",
       "    <tr>\n",
       "      <th>count</th>\n",
       "      <td>700.000000</td>\n",
       "      <td>700.000000</td>\n",
       "      <td>700.000000</td>\n",
       "      <td>700.000000</td>\n",
       "    </tr>\n",
       "    <tr>\n",
       "      <th>mean</th>\n",
       "      <td>70.001500</td>\n",
       "      <td>50.359817</td>\n",
       "      <td>9.984679</td>\n",
       "      <td>29.966913</td>\n",
       "    </tr>\n",
       "    <tr>\n",
       "      <th>std</th>\n",
       "      <td>9.864347</td>\n",
       "      <td>4.970406</td>\n",
       "      <td>1.975944</td>\n",
       "      <td>5.104983</td>\n",
       "    </tr>\n",
       "    <tr>\n",
       "      <th>min</th>\n",
       "      <td>43.031134</td>\n",
       "      <td>35.518723</td>\n",
       "      <td>3.960976</td>\n",
       "      <td>15.352757</td>\n",
       "    </tr>\n",
       "    <tr>\n",
       "      <th>25%</th>\n",
       "      <td>63.443471</td>\n",
       "      <td>46.968792</td>\n",
       "      <td>8.660477</td>\n",
       "      <td>26.353729</td>\n",
       "    </tr>\n",
       "    <tr>\n",
       "      <th>50%</th>\n",
       "      <td>69.746805</td>\n",
       "      <td>50.384184</td>\n",
       "      <td>9.976862</td>\n",
       "      <td>30.075281</td>\n",
       "    </tr>\n",
       "    <tr>\n",
       "      <th>75%</th>\n",
       "      <td>76.391551</td>\n",
       "      <td>53.482646</td>\n",
       "      <td>11.306906</td>\n",
       "      <td>33.332891</td>\n",
       "    </tr>\n",
       "    <tr>\n",
       "      <th>max</th>\n",
       "      <td>108.527315</td>\n",
       "      <td>65.965538</td>\n",
       "      <td>17.852475</td>\n",
       "      <td>46.215465</td>\n",
       "    </tr>\n",
       "  </tbody>\n",
       "</table>\n",
       "</div>"
      ],
      "text/plain": [
       "       Temperature   Vibration  Power_Usage    Humidity\n",
       "count   700.000000  700.000000   700.000000  700.000000\n",
       "mean     70.001500   50.359817     9.984679   29.966913\n",
       "std       9.864347    4.970406     1.975944    5.104983\n",
       "min      43.031134   35.518723     3.960976   15.352757\n",
       "25%      63.443471   46.968792     8.660477   26.353729\n",
       "50%      69.746805   50.384184     9.976862   30.075281\n",
       "75%      76.391551   53.482646    11.306906   33.332891\n",
       "max     108.527315   65.965538    17.852475   46.215465"
      ]
     },
     "execution_count": 139,
     "metadata": {},
     "output_type": "execute_result"
    }
   ],
   "source": [
    "dataset_sem_falha = dataset[dataset['Failure_Risk'] == 'Não']\n",
    "dataset_sem_falha.describe() # Algumas medidas de posição e de dispersão para em um contexto de ausência de risco (Coluna 'Failure_Risk' = 'Não')"
   ]
  },
  {
   "cell_type": "markdown",
   "id": "91b51d18-5fb1-45fa-89a2-9fa0d8926194",
   "metadata": {},
   "source": [
    "## Análise dos dados relacionados a presença de risco de falha da máquina"
   ]
  },
  {
   "cell_type": "code",
   "execution_count": 138,
   "id": "bf01dcfa-e3c1-4712-961f-a9c9deb669d2",
   "metadata": {},
   "outputs": [
    {
     "data": {
      "text/html": [
       "<div>\n",
       "<style scoped>\n",
       "    .dataframe tbody tr th:only-of-type {\n",
       "        vertical-align: middle;\n",
       "    }\n",
       "\n",
       "    .dataframe tbody tr th {\n",
       "        vertical-align: top;\n",
       "    }\n",
       "\n",
       "    .dataframe thead th {\n",
       "        text-align: right;\n",
       "    }\n",
       "</style>\n",
       "<table border=\"1\" class=\"dataframe\">\n",
       "  <thead>\n",
       "    <tr style=\"text-align: right;\">\n",
       "      <th></th>\n",
       "      <th>Temperature</th>\n",
       "      <th>Vibration</th>\n",
       "      <th>Power_Usage</th>\n",
       "      <th>Humidity</th>\n",
       "    </tr>\n",
       "  </thead>\n",
       "  <tbody>\n",
       "    <tr>\n",
       "      <th>count</th>\n",
       "      <td>300.000000</td>\n",
       "      <td>300.000000</td>\n",
       "      <td>300.000000</td>\n",
       "      <td>300.000000</td>\n",
       "    </tr>\n",
       "    <tr>\n",
       "      <th>mean</th>\n",
       "      <td>70.640901</td>\n",
       "      <td>50.341031</td>\n",
       "      <td>10.074644</td>\n",
       "      <td>29.765216</td>\n",
       "    </tr>\n",
       "    <tr>\n",
       "      <th>std</th>\n",
       "      <td>9.623029</td>\n",
       "      <td>5.034724</td>\n",
       "      <td>1.947484</td>\n",
       "      <td>5.212403</td>\n",
       "    </tr>\n",
       "    <tr>\n",
       "      <th>min</th>\n",
       "      <td>37.587327</td>\n",
       "      <td>35.298057</td>\n",
       "      <td>4.504990</td>\n",
       "      <td>16.984315</td>\n",
       "    </tr>\n",
       "    <tr>\n",
       "      <th>25%</th>\n",
       "      <td>63.941317</td>\n",
       "      <td>46.982981</td>\n",
       "      <td>8.773018</td>\n",
       "      <td>26.018072</td>\n",
       "    </tr>\n",
       "    <tr>\n",
       "      <th>50%</th>\n",
       "      <td>71.148452</td>\n",
       "      <td>50.069335</td>\n",
       "      <td>10.029529</td>\n",
       "      <td>29.856784</td>\n",
       "    </tr>\n",
       "    <tr>\n",
       "      <th>75%</th>\n",
       "      <td>76.872311</td>\n",
       "      <td>54.108535</td>\n",
       "      <td>11.338223</td>\n",
       "      <td>33.343977</td>\n",
       "    </tr>\n",
       "    <tr>\n",
       "      <th>max</th>\n",
       "      <td>97.201692</td>\n",
       "      <td>65.688743</td>\n",
       "      <td>15.970518</td>\n",
       "      <td>45.760284</td>\n",
       "    </tr>\n",
       "  </tbody>\n",
       "</table>\n",
       "</div>"
      ],
      "text/plain": [
       "       Temperature   Vibration  Power_Usage    Humidity\n",
       "count   300.000000  300.000000   300.000000  300.000000\n",
       "mean     70.640901   50.341031    10.074644   29.765216\n",
       "std       9.623029    5.034724     1.947484    5.212403\n",
       "min      37.587327   35.298057     4.504990   16.984315\n",
       "25%      63.941317   46.982981     8.773018   26.018072\n",
       "50%      71.148452   50.069335    10.029529   29.856784\n",
       "75%      76.872311   54.108535    11.338223   33.343977\n",
       "max      97.201692   65.688743    15.970518   45.760284"
      ]
     },
     "execution_count": 138,
     "metadata": {},
     "output_type": "execute_result"
    }
   ],
   "source": [
    "dataset_falha = dataset[dataset['Failure_Risk'] == 'Sim']\n",
    "dataset_falha.describe() # Algumas medidas de posição e de dispersão em um contexto de presença de risco (Coluna 'Failure_Risk' = 'Sim')"
   ]
  },
  {
   "cell_type": "code",
   "execution_count": 164,
   "id": "4ffaef4c-0590-42a3-b9c4-49d037104234",
   "metadata": {},
   "outputs": [
    {
     "data": {
      "image/png": "[encoded data removed]",
      "text/plain": [
       "<Figure size 900x700 with 1 Axes>"
      ]
     },
     "metadata": {},
     "output_type": "display_data"
    }
   ],
   "source": [
    "# Plotando boxplots para a variação das distribuições dos quartis dainte da presença ou ausência de risco de falha\n",
    "dataset_long = dataset.melt(id_vars='Failure_Risk', var_name='Atributo', value_name='Valor',value_vars=quantitativos) # Criando uma versão do dataset com o tipo long\n",
    "plt.figure(figsize=[9,7])\n",
    "sns.boxplot(x = 'Atributo', y='Valor', hue='Failure_Risk', data=dataset_long, palette='Reds') # Plotando um boxplot que compara os percentis na ausência ou presença de risco\n",
    "#plt.savefig('Boxplot Comparação.png') # Comando para salvar a imagem\n",
    "plt.show()"
   ]
  },
  {
   "cell_type": "markdown",
   "id": "4a2c59e0-89da-41fd-9e1a-03c01939728c",
   "metadata": {},
   "source": [
    "## Análise dos dados para cada tipo de máquina"
   ]
  },
  {
   "cell_type": "code",
   "execution_count": 121,
   "id": "fc53e419-4f7d-4124-bd85-b09a73c64aa4",
   "metadata": {},
   "outputs": [
    {
     "data": {
      "text/html": [
       "<div>\n",
       "<style scoped>\n",
       "    .dataframe tbody tr th:only-of-type {\n",
       "        vertical-align: middle;\n",
       "    }\n",
       "\n",
       "    .dataframe tbody tr th {\n",
       "        vertical-align: top;\n",
       "    }\n",
       "\n",
       "    .dataframe thead th {\n",
       "        text-align: right;\n",
       "    }\n",
       "</style>\n",
       "<table border=\"1\" class=\"dataframe\">\n",
       "  <thead>\n",
       "    <tr style=\"text-align: right;\">\n",
       "      <th>Failure_Risk</th>\n",
       "      <th>Não</th>\n",
       "      <th>Sim</th>\n",
       "      <th>All</th>\n",
       "    </tr>\n",
       "    <tr>\n",
       "      <th>Machine_Type</th>\n",
       "      <th></th>\n",
       "      <th></th>\n",
       "      <th></th>\n",
       "    </tr>\n",
       "  </thead>\n",
       "  <tbody>\n",
       "    <tr>\n",
       "      <th>Drill</th>\n",
       "      <td>0.328571</td>\n",
       "      <td>0.346667</td>\n",
       "      <td>0.334</td>\n",
       "    </tr>\n",
       "    <tr>\n",
       "      <th>Lathe</th>\n",
       "      <td>0.332857</td>\n",
       "      <td>0.350000</td>\n",
       "      <td>0.338</td>\n",
       "    </tr>\n",
       "    <tr>\n",
       "      <th>Mill</th>\n",
       "      <td>0.338571</td>\n",
       "      <td>0.303333</td>\n",
       "      <td>0.328</td>\n",
       "    </tr>\n",
       "  </tbody>\n",
       "</table>\n",
       "</div>"
      ],
      "text/plain": [
       "Failure_Risk       Não       Sim    All\n",
       "Machine_Type                           \n",
       "Drill         0.328571  0.346667  0.334\n",
       "Lathe         0.332857  0.350000  0.338\n",
       "Mill          0.338571  0.303333  0.328"
      ]
     },
     "execution_count": 121,
     "metadata": {},
     "output_type": "execute_result"
    }
   ],
   "source": [
    "crossType = pd.crosstab(dataset.Machine_Type, dataset.Failure_Risk, normalize='columns', margins=True) # Obtendo a frequência simples absoluta para cada tipo de máquina\n",
    "crossType"
   ]
  },
  {
   "cell_type": "markdown",
   "id": "795de4b0-cc92-419a-86b5-0cbe19b25e72",
   "metadata": {},
   "source": [
    "- **Drill**"
   ]
  },
  {
   "cell_type": "code",
   "execution_count": 112,
   "id": "caa8b216-2426-4508-b021-8f75b6823169",
   "metadata": {},
   "outputs": [
    {
     "data": {
      "text/html": [
       "<div>\n",
       "<style scoped>\n",
       "    .dataframe tbody tr th:only-of-type {\n",
       "        vertical-align: middle;\n",
       "    }\n",
       "\n",
       "    .dataframe tbody tr th {\n",
       "        vertical-align: top;\n",
       "    }\n",
       "\n",
       "    .dataframe thead th {\n",
       "        text-align: right;\n",
       "    }\n",
       "</style>\n",
       "<table border=\"1\" class=\"dataframe\">\n",
       "  <thead>\n",
       "    <tr style=\"text-align: right;\">\n",
       "      <th></th>\n",
       "      <th>Temperature</th>\n",
       "      <th>Vibration</th>\n",
       "      <th>Power_Usage</th>\n",
       "      <th>Humidity</th>\n",
       "    </tr>\n",
       "  </thead>\n",
       "  <tbody>\n",
       "    <tr>\n",
       "      <th>count</th>\n",
       "      <td>334.000000</td>\n",
       "      <td>334.000000</td>\n",
       "      <td>334.000000</td>\n",
       "      <td>334.000000</td>\n",
       "    </tr>\n",
       "    <tr>\n",
       "      <th>mean</th>\n",
       "      <td>69.924919</td>\n",
       "      <td>49.885586</td>\n",
       "      <td>10.115146</td>\n",
       "      <td>29.852577</td>\n",
       "    </tr>\n",
       "    <tr>\n",
       "      <th>std</th>\n",
       "      <td>9.325221</td>\n",
       "      <td>4.848251</td>\n",
       "      <td>1.904376</td>\n",
       "      <td>4.931183</td>\n",
       "    </tr>\n",
       "    <tr>\n",
       "      <th>min</th>\n",
       "      <td>37.587327</td>\n",
       "      <td>35.298057</td>\n",
       "      <td>3.960976</td>\n",
       "      <td>15.352757</td>\n",
       "    </tr>\n",
       "    <tr>\n",
       "      <th>25%</th>\n",
       "      <td>63.899818</td>\n",
       "      <td>46.742986</td>\n",
       "      <td>8.914408</td>\n",
       "      <td>26.388766</td>\n",
       "    </tr>\n",
       "    <tr>\n",
       "      <th>50%</th>\n",
       "      <td>70.184262</td>\n",
       "      <td>49.912631</td>\n",
       "      <td>10.084434</td>\n",
       "      <td>29.975551</td>\n",
       "    </tr>\n",
       "    <tr>\n",
       "      <th>75%</th>\n",
       "      <td>75.828654</td>\n",
       "      <td>52.751487</td>\n",
       "      <td>11.272353</td>\n",
       "      <td>32.913480</td>\n",
       "    </tr>\n",
       "    <tr>\n",
       "      <th>max</th>\n",
       "      <td>94.553001</td>\n",
       "      <td>65.965538</td>\n",
       "      <td>16.219837</td>\n",
       "      <td>45.760284</td>\n",
       "    </tr>\n",
       "  </tbody>\n",
       "</table>\n",
       "</div>"
      ],
      "text/plain": [
       "       Temperature   Vibration  Power_Usage    Humidity\n",
       "count   334.000000  334.000000   334.000000  334.000000\n",
       "mean     69.924919   49.885586    10.115146   29.852577\n",
       "std       9.325221    4.848251     1.904376    4.931183\n",
       "min      37.587327   35.298057     3.960976   15.352757\n",
       "25%      63.899818   46.742986     8.914408   26.388766\n",
       "50%      70.184262   49.912631    10.084434   29.975551\n",
       "75%      75.828654   52.751487    11.272353   32.913480\n",
       "max      94.553001   65.965538    16.219837   45.760284"
      ]
     },
     "execution_count": 112,
     "metadata": {},
     "output_type": "execute_result"
    }
   ],
   "source": [
    "dataset[dataset['Machine_Type'] == 'Drill'].describe() # Algumas medidas de posição e de dispersão para máquinas do tipo Drill"
   ]
  },
  {
   "cell_type": "markdown",
   "id": "03188be0-173c-459c-a8a7-b3ef90175a44",
   "metadata": {},
   "source": [
    "- **Mill**"
   ]
  },
  {
   "cell_type": "code",
   "execution_count": 115,
   "id": "dcffea3a-d6c3-4706-a9e2-248bac13f30b",
   "metadata": {},
   "outputs": [
    {
     "data": {
      "text/html": [
       "<div>\n",
       "<style scoped>\n",
       "    .dataframe tbody tr th:only-of-type {\n",
       "        vertical-align: middle;\n",
       "    }\n",
       "\n",
       "    .dataframe tbody tr th {\n",
       "        vertical-align: top;\n",
       "    }\n",
       "\n",
       "    .dataframe thead th {\n",
       "        text-align: right;\n",
       "    }\n",
       "</style>\n",
       "<table border=\"1\" class=\"dataframe\">\n",
       "  <thead>\n",
       "    <tr style=\"text-align: right;\">\n",
       "      <th></th>\n",
       "      <th>Temperature</th>\n",
       "      <th>Vibration</th>\n",
       "      <th>Power_Usage</th>\n",
       "      <th>Humidity</th>\n",
       "    </tr>\n",
       "  </thead>\n",
       "  <tbody>\n",
       "    <tr>\n",
       "      <th>count</th>\n",
       "      <td>328.000000</td>\n",
       "      <td>328.000000</td>\n",
       "      <td>328.000000</td>\n",
       "      <td>328.000000</td>\n",
       "    </tr>\n",
       "    <tr>\n",
       "      <th>mean</th>\n",
       "      <td>69.911694</td>\n",
       "      <td>50.493733</td>\n",
       "      <td>9.890596</td>\n",
       "      <td>29.831719</td>\n",
       "    </tr>\n",
       "    <tr>\n",
       "      <th>std</th>\n",
       "      <td>10.146998</td>\n",
       "      <td>5.110723</td>\n",
       "      <td>2.040243</td>\n",
       "      <td>4.932754</td>\n",
       "    </tr>\n",
       "    <tr>\n",
       "      <th>min</th>\n",
       "      <td>45.283555</td>\n",
       "      <td>35.518723</td>\n",
       "      <td>4.017728</td>\n",
       "      <td>17.338770</td>\n",
       "    </tr>\n",
       "    <tr>\n",
       "      <th>25%</th>\n",
       "      <td>63.338017</td>\n",
       "      <td>47.013505</td>\n",
       "      <td>8.560883</td>\n",
       "      <td>26.318398</td>\n",
       "    </tr>\n",
       "    <tr>\n",
       "      <th>50%</th>\n",
       "      <td>69.867571</td>\n",
       "      <td>50.323838</td>\n",
       "      <td>9.738172</td>\n",
       "      <td>29.649114</td>\n",
       "    </tr>\n",
       "    <tr>\n",
       "      <th>75%</th>\n",
       "      <td>76.294546</td>\n",
       "      <td>53.796052</td>\n",
       "      <td>11.346401</td>\n",
       "      <td>32.898318</td>\n",
       "    </tr>\n",
       "    <tr>\n",
       "      <th>max</th>\n",
       "      <td>108.527315</td>\n",
       "      <td>65.688743</td>\n",
       "      <td>15.898189</td>\n",
       "      <td>44.342015</td>\n",
       "    </tr>\n",
       "  </tbody>\n",
       "</table>\n",
       "</div>"
      ],
      "text/plain": [
       "       Temperature   Vibration  Power_Usage    Humidity\n",
       "count   328.000000  328.000000   328.000000  328.000000\n",
       "mean     69.911694   50.493733     9.890596   29.831719\n",
       "std      10.146998    5.110723     2.040243    4.932754\n",
       "min      45.283555   35.518723     4.017728   17.338770\n",
       "25%      63.338017   47.013505     8.560883   26.318398\n",
       "50%      69.867571   50.323838     9.738172   29.649114\n",
       "75%      76.294546   53.796052    11.346401   32.898318\n",
       "max     108.527315   65.688743    15.898189   44.342015"
      ]
     },
     "execution_count": 115,
     "metadata": {},
     "output_type": "execute_result"
    }
   ],
   "source": [
    "dataset[dataset['Machine_Type'] == 'Mill'].describe() # Algumas medidas de posição e de dispersão para máquinas do tipo Mill"
   ]
  },
  {
   "cell_type": "markdown",
   "id": "a1ee00ab-5ef0-4ed1-b5e3-f5d3b4fcba09",
   "metadata": {},
   "source": [
    "- **Lathe**"
   ]
  },
  {
   "cell_type": "code",
   "execution_count": 117,
   "id": "d923f348-4150-468d-9cae-6afd3951072d",
   "metadata": {},
   "outputs": [
    {
     "data": {
      "text/html": [
       "<div>\n",
       "<style scoped>\n",
       "    .dataframe tbody tr th:only-of-type {\n",
       "        vertical-align: middle;\n",
       "    }\n",
       "\n",
       "    .dataframe tbody tr th {\n",
       "        vertical-align: top;\n",
       "    }\n",
       "\n",
       "    .dataframe thead th {\n",
       "        text-align: right;\n",
       "    }\n",
       "</style>\n",
       "<table border=\"1\" class=\"dataframe\">\n",
       "  <thead>\n",
       "    <tr style=\"text-align: right;\">\n",
       "      <th></th>\n",
       "      <th>Temperature</th>\n",
       "      <th>Vibration</th>\n",
       "      <th>Power_Usage</th>\n",
       "      <th>Humidity</th>\n",
       "    </tr>\n",
       "  </thead>\n",
       "  <tbody>\n",
       "    <tr>\n",
       "      <th>count</th>\n",
       "      <td>338.000000</td>\n",
       "      <td>338.000000</td>\n",
       "      <td>338.000000</td>\n",
       "      <td>338.000000</td>\n",
       "    </tr>\n",
       "    <tr>\n",
       "      <th>mean</th>\n",
       "      <td>70.731840</td>\n",
       "      <td>50.681808</td>\n",
       "      <td>10.026906</td>\n",
       "      <td>30.032069</td>\n",
       "    </tr>\n",
       "    <tr>\n",
       "      <th>std</th>\n",
       "      <td>9.898052</td>\n",
       "      <td>4.981741</td>\n",
       "      <td>1.954646</td>\n",
       "      <td>5.524835</td>\n",
       "    </tr>\n",
       "    <tr>\n",
       "      <th>min</th>\n",
       "      <td>43.031134</td>\n",
       "      <td>37.044789</td>\n",
       "      <td>4.791572</td>\n",
       "      <td>15.465059</td>\n",
       "    </tr>\n",
       "    <tr>\n",
       "      <th>25%</th>\n",
       "      <td>63.740998</td>\n",
       "      <td>47.341056</td>\n",
       "      <td>8.747279</td>\n",
       "      <td>26.036969</td>\n",
       "    </tr>\n",
       "    <tr>\n",
       "      <th>50%</th>\n",
       "      <td>70.757315</td>\n",
       "      <td>50.801076</td>\n",
       "      <td>10.066949</td>\n",
       "      <td>30.716592</td>\n",
       "    </tr>\n",
       "    <tr>\n",
       "      <th>75%</th>\n",
       "      <td>77.503637</td>\n",
       "      <td>54.419745</td>\n",
       "      <td>11.293384</td>\n",
       "      <td>33.877596</td>\n",
       "    </tr>\n",
       "    <tr>\n",
       "      <th>max</th>\n",
       "      <td>100.788808</td>\n",
       "      <td>62.898547</td>\n",
       "      <td>17.852475</td>\n",
       "      <td>46.215465</td>\n",
       "    </tr>\n",
       "  </tbody>\n",
       "</table>\n",
       "</div>"
      ],
      "text/plain": [
       "       Temperature   Vibration  Power_Usage    Humidity\n",
       "count   338.000000  338.000000   338.000000  338.000000\n",
       "mean     70.731840   50.681808    10.026906   30.032069\n",
       "std       9.898052    4.981741     1.954646    5.524835\n",
       "min      43.031134   37.044789     4.791572   15.465059\n",
       "25%      63.740998   47.341056     8.747279   26.036969\n",
       "50%      70.757315   50.801076    10.066949   30.716592\n",
       "75%      77.503637   54.419745    11.293384   33.877596\n",
       "max     100.788808   62.898547    17.852475   46.215465"
      ]
     },
     "execution_count": 117,
     "metadata": {},
     "output_type": "execute_result"
    }
   ],
   "source": [
    "dataset[dataset['Machine_Type'] == 'Lathe'].describe() # Algumas medidas de posição e de dispersão para máquinas do tipo Drill"
   ]
  },
  {
   "cell_type": "markdown",
   "id": "0fd0e8ab-e9d8-4092-89a1-5a8d2e5d5028",
   "metadata": {},
   "source": [
    "# Inferência Estatística"
   ]
  },
  {
   "cell_type": "code",
   "execution_count": 127,
   "id": "71563962-154f-4009-a2da-d09492b55496",
   "metadata": {},
   "outputs": [
    {
     "data": {
      "text/html": [
       "<div>\n",
       "<style scoped>\n",
       "    .dataframe tbody tr th:only-of-type {\n",
       "        vertical-align: middle;\n",
       "    }\n",
       "\n",
       "    .dataframe tbody tr th {\n",
       "        vertical-align: top;\n",
       "    }\n",
       "\n",
       "    .dataframe thead th {\n",
       "        text-align: right;\n",
       "    }\n",
       "</style>\n",
       "<table border=\"1\" class=\"dataframe\">\n",
       "  <thead>\n",
       "    <tr style=\"text-align: right;\">\n",
       "      <th></th>\n",
       "      <th>W</th>\n",
       "      <th>pval</th>\n",
       "      <th>normal</th>\n",
       "    </tr>\n",
       "  </thead>\n",
       "  <tbody>\n",
       "    <tr>\n",
       "      <th>Temperature</th>\n",
       "      <td>2.575518</td>\n",
       "      <td>0.275888</td>\n",
       "      <td>True</td>\n",
       "    </tr>\n",
       "    <tr>\n",
       "      <th>Vibration</th>\n",
       "      <td>0.609436</td>\n",
       "      <td>0.737331</td>\n",
       "      <td>True</td>\n",
       "    </tr>\n",
       "    <tr>\n",
       "      <th>Power_Usage</th>\n",
       "      <td>1.869375</td>\n",
       "      <td>0.392709</td>\n",
       "      <td>True</td>\n",
       "    </tr>\n",
       "    <tr>\n",
       "      <th>Humidity</th>\n",
       "      <td>2.605911</td>\n",
       "      <td>0.271727</td>\n",
       "      <td>True</td>\n",
       "    </tr>\n",
       "  </tbody>\n",
       "</table>\n",
       "</div>"
      ],
      "text/plain": [
       "                    W      pval  normal\n",
       "Temperature  2.575518  0.275888    True\n",
       "Vibration    0.609436  0.737331    True\n",
       "Power_Usage  1.869375  0.392709    True\n",
       "Humidity     2.605911  0.271727    True"
      ]
     },
     "execution_count": 127,
     "metadata": {},
     "output_type": "execute_result"
    }
   ],
   "source": [
    "pg.normality(dataset[quantitativos], method='normaltest') # Avaliando se os dados seguem uma distribuição normal"
   ]
  }
 ],
 "metadata": {
  "kernelspec": {
   "display_name": "Python 3 (ipykernel)",
   "language": "python",
   "name": "python3"
  },
  "language_info": {
   "codemirror_mode": {
    "name": "ipython",
    "version": 3
   },
   "file_extension": ".py",
   "mimetype": "text/x-python",
   "name": "python",
   "nbconvert_exporter": "python",
   "pygments_lexer": "ipython3",
   "version": "3.11.7"
  }
 },
 "nbformat": 4,
 "nbformat_minor": 5
}
